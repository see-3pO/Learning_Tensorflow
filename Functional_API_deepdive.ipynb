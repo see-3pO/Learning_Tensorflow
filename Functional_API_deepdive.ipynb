{
  "nbformat": 4,
  "nbformat_minor": 0,
  "metadata": {
    "colab": {
      "provenance": [],
      "authorship_tag": "ABX9TyOUf9JMj1l3iLz8uJFLsZsP",
      "include_colab_link": true
    },
    "kernelspec": {
      "name": "python3",
      "display_name": "Python 3"
    },
    "language_info": {
      "name": "python"
    }
  },
  "cells": [
    {
      "cell_type": "markdown",
      "metadata": {
        "id": "view-in-github",
        "colab_type": "text"
      },
      "source": [
        "<a href=\"https://colab.research.google.com/github/see-3pO/Learning_Tensorflow/blob/master/Functional_API_deepdive.ipynb\" target=\"_parent\"><img src=\"https://colab.research.google.com/assets/colab-badge.svg\" alt=\"Open In Colab\"/></a>"
      ]
    },
    {
      "cell_type": "code",
      "source": [
        "# ounting drive\n",
        "from google.colab import drive\n",
        "drive.mount('/content/drive')"
      ],
      "metadata": {
        "id": "M6-Wir2aiASk"
      },
      "execution_count": null,
      "outputs": []
    },
    {
      "cell_type": "code",
      "execution_count": null,
      "metadata": {
        "id": "hT1h4Xnxdm0d"
      },
      "outputs": [],
      "source": [
        "# Basic imports\n",
        "import tensorflow as tf\n",
        "from tensorflow import keras\n",
        "from keras import layers, regularizers\n",
        "from keras.datasets import mnist\n",
        "\n",
        "import os\n",
        "import pandas as pd\n",
        "import numpy as np\n",
        "import matplotlib.pyplot as plt\n",
        "%matplotlib inline"
      ]
    },
    {
      "cell_type": "code",
      "source": [
        "# Loading the data\n",
        "train_df = pd.read_csv('train.csv')\n",
        "test_df = pd.read_csv('test.csv')"
      ],
      "metadata": {
        "id": "ojwAD8sYetBh"
      },
      "execution_count": null,
      "outputs": []
    },
    {
      "cell_type": "code",
      "source": [
        "# lots of code to add\n",
        "train_dataset = [9, 5, 5]"
      ],
      "metadata": {
        "id": "0CCpW0f5i7gu"
      },
      "execution_count": null,
      "outputs": []
    },
    {
      "cell_type": "code",
      "source": [
        "# Hyperparameters\n",
        "batch_size = 64\n",
        "weight_decay = 0.001\n",
        "learning_rate = 0.001"
      ],
      "metadata": {
        "id": "Uwi4VWomjzTL"
      },
      "execution_count": null,
      "outputs": []
    },
    {
      "cell_type": "markdown",
      "source": [
        "The Sequential API is simple annd compact and allows creation of models that can only accept one input for a single target variable/ output.\n",
        "\n",
        "In cases where one requires to have two outputs such as getting two digit values from one image, the Functional API is best suited to create the model."
      ],
      "metadata": {
        "id": "zPe_vpbdnzd8"
      }
    },
    {
      "cell_type": "code",
      "source": [
        "# Functional API\n",
        "inputs = keras.Input(shape=(64, 64, 1))\n",
        "x = layers.Conv2D(32, (3, 3), padding='same', kernel_regularizer=regularizers.l2(weight_decay))(inputs)\n",
        "x = layers.BatchNormalization()(x)\n",
        "x = keras.activations.relu(x)\n",
        "x = layers.Conv2D(64, (3, 3), padding='same', kernel_regularizer=regularizers.l2(weight_decay))(x)\n",
        "x = layers.BatchNormalization()(x)\n",
        "x = keras.activations.relu(x)\n",
        "x = layers.MaxPooling2D()(x)\n",
        "x = layers.Conv2D(64, (3, 3), activation='relu', kernel_regularizer=regularizers.l2(weight_decay))(x)\n",
        "x = layers.Conv2D(128, (3, 3), activation='relu')(x)\n",
        "x = layers.MaxPooling2D()(x)\n",
        "\n",
        "x = layers.Flatten()(x)\n",
        "x = layers.Dense(128, activation='relu')(x)\n",
        "x = layers.Droput(0.5)(x)\n",
        "x = layers.Dense(64, activation='relu')\n",
        "output1 = layers.Dense(10, activation='softmax', name='first_number')(x)\n",
        "output2 = layers.Dense(10, activation='softmax', name='second_number')(x)\n",
        "\n",
        "model = keras.Model(inputs=inputs, outputs=[output1, output2])"
      ],
      "metadata": {
        "id": "kgJxTTkUjZc_"
      },
      "execution_count": null,
      "outputs": []
    },
    {
      "cell_type": "code",
      "source": [
        "# compiling the model\n",
        "model.compile(\n",
        "    loss = [\n",
        "        keras.losses.SparseCategoricalCrossentropy(),\n",
        "        keras.losses.SparseCategoricalCrossentropy(),\n",
        "    ],\n",
        "    optimizer = keras.optimizers.Adam(learning_rate=learning_rate),\n",
        "    metrics = ['accuracy'],\n",
        ")"
      ],
      "metadata": {
        "id": "5ZhRmcqxke0y"
      },
      "execution_count": null,
      "outputs": []
    },
    {
      "cell_type": "code",
      "source": [
        "# fitting the model\n",
        "model.fit(train_dataset, epochs=5, verbose=2)"
      ],
      "metadata": {
        "id": "Qk5aAwAkpuSY"
      },
      "execution_count": null,
      "outputs": []
    }
  ]
}