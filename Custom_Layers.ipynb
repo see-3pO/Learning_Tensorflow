{
  "nbformat": 4,
  "nbformat_minor": 0,
  "metadata": {
    "colab": {
      "provenance": [],
      "authorship_tag": "ABX9TyMG5CtH3nqQ0sXxjU7L0zcJ",
      "include_colab_link": true
    },
    "kernelspec": {
      "name": "python3",
      "display_name": "Python 3"
    },
    "language_info": {
      "name": "python"
    }
  },
  "cells": [
    {
      "cell_type": "markdown",
      "metadata": {
        "id": "view-in-github",
        "colab_type": "text"
      },
      "source": [
        "<a href=\"https://colab.research.google.com/github/see-3pO/Learning_Tensorflow/blob/master/Custom_Layers.ipynb\" target=\"_parent\"><img src=\"https://colab.research.google.com/assets/colab-badge.svg\" alt=\"Open In Colab\"/></a>"
      ]
    },
    {
      "cell_type": "code",
      "execution_count": null,
      "metadata": {
        "id": "OqsK3wf9-SWB"
      },
      "outputs": [],
      "source": [
        "import tensorflow as tf\n",
        "from tensorflow import keras\n",
        "from keras import layers\n",
        "from keras.datasets import mnist"
      ]
    },
    {
      "cell_type": "code",
      "source": [
        "# load the data\n",
        "(X_train, y_train), (X_test, y_test) = mnist.load_data()"
      ],
      "metadata": {
        "colab": {
          "base_uri": "https://localhost:8080/"
        },
        "id": "Ak7F7dfP_ffW",
        "outputId": "b0f38c50-f6f1-4fdd-c6be-c7ed17b1574e"
      },
      "execution_count": null,
      "outputs": [
        {
          "output_type": "stream",
          "name": "stdout",
          "text": [
            "Downloading data from https://storage.googleapis.com/tensorflow/tf-keras-datasets/mnist.npz\n",
            "11490434/11490434 [==============================] - 0s 0us/step\n"
          ]
        }
      ]
    },
    {
      "cell_type": "code",
      "source": [
        "# preprocess\n",
        "X_train = X_train.reshape(-1, 28 * 28).astype('float32') / 255.0\n",
        "X_test = X_test.reshape(-1, 28 * 28).astype('float32') / 255.0"
      ],
      "metadata": {
        "id": "2uwbioXj_s30"
      },
      "execution_count": null,
      "outputs": []
    },
    {
      "cell_type": "code",
      "source": [
        "# custom Dense layer\n",
        "class Dense(layers.Layer):\n",
        "  def __init__(self, units):\n",
        "    super(Dense, self).__init__()\n",
        "    self.units = units\n",
        "\n",
        "  def build(self, input_shape):\n",
        "    self.w = self.add_weight(name='w', shape=(input_shape[-1], self.units), trainable=True, initializer='random_normal')\n",
        "    self.b = self.add_weight(name='b', shape=(self.units,), trainable=True, initializer='zeros')\n",
        "\n",
        "\n",
        "  def call(self, inputs):\n",
        "    return tf.matmul(inputs, self.w) + self.b"
      ],
      "metadata": {
        "id": "h3kAvUYNDn4m"
      },
      "execution_count": null,
      "outputs": []
    },
    {
      "cell_type": "code",
      "source": [
        "# ReLU class\n",
        "class MyReLU(layers.Layer):\n",
        "  def __init__(self):\n",
        "    super(MyReLU, self).__init__()\n",
        "\n",
        "  def call(self, x):\n",
        "    return tf.math.maximum(x, 0)"
      ],
      "metadata": {
        "id": "elBzYr9-WJlx"
      },
      "execution_count": null,
      "outputs": []
    },
    {
      "cell_type": "code",
      "source": [
        " # model class\n",
        "class MyModel(keras.Model):\n",
        "  def __init__(self, num_classes=10):\n",
        "    super(MyModel, self).__init__()\n",
        "    self.dense1 = Dense(64)\n",
        "    self.dense2 = Dense(num_classes)\n",
        "    self.relu = MyReLU()\n",
        "    # self.dense1 = layers.Dense(64)\n",
        "    # self.dense2 = layers.Dense(num_classes)\n",
        "\n",
        "  def call(self, input_tensor):\n",
        "    x = self.relu(self.dense1(input_tensor))\n",
        "    return self.dense2(x)"
      ],
      "metadata": {
        "id": "yBxLHGv9AKeS"
      },
      "execution_count": null,
      "outputs": []
    },
    {
      "cell_type": "code",
      "source": [
        "# model instance\n",
        "model = MyModel()"
      ],
      "metadata": {
        "id": "zCzgv30nBbve"
      },
      "execution_count": null,
      "outputs": []
    },
    {
      "cell_type": "code",
      "source": [
        "# compile model\n",
        "model.compile(\n",
        "    loss = keras.losses.SparseCategoricalCrossentropy(from_logits=True),\n",
        "    optimizer = keras.optimizers.Adam(learning_rate=0.001),\n",
        "    metrics = ['accuracy'],\n",
        ")"
      ],
      "metadata": {
        "id": "GGGHubsbBmM6"
      },
      "execution_count": null,
      "outputs": []
    },
    {
      "cell_type": "code",
      "source": [
        "# fit the model\n",
        "model.fit(X_train, y_train, batch_size=32, epochs=2, verbose=2)\n",
        "# evaluate the model\n",
        "model.evaluate(X_test, y_test, batch_size=32, verbose=2)"
      ],
      "metadata": {
        "colab": {
          "base_uri": "https://localhost:8080/"
        },
        "id": "oTPexRm_CF7R",
        "outputId": "14377a12-5897-4c4c-a04a-a300435a9891"
      },
      "execution_count": null,
      "outputs": [
        {
          "output_type": "stream",
          "name": "stdout",
          "text": [
            "Epoch 1/2\n",
            "1875/1875 - 5s - loss: 0.3475 - accuracy: 0.9052 - 5s/epoch - 2ms/step\n",
            "Epoch 2/2\n",
            "1875/1875 - 5s - loss: 0.1715 - accuracy: 0.9501 - 5s/epoch - 3ms/step\n",
            "313/313 - 1s - loss: 0.1456 - accuracy: 0.9565 - 574ms/epoch - 2ms/step\n"
          ]
        },
        {
          "output_type": "execute_result",
          "data": {
            "text/plain": [
              "[0.1455836296081543, 0.9564999938011169]"
            ]
          },
          "metadata": {},
          "execution_count": 25
        }
      ]
    }
  ]
}