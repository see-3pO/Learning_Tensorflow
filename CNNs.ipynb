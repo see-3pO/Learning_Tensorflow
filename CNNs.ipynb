{
  "nbformat": 4,
  "nbformat_minor": 0,
  "metadata": {
    "colab": {
      "provenance": [],
      "authorship_tag": "ABX9TyOY2j2xxm2qgk7n6pSgGSTi",
      "include_colab_link": true
    },
    "kernelspec": {
      "name": "python3",
      "display_name": "Python 3"
    },
    "language_info": {
      "name": "python"
    }
  },
  "cells": [
    {
      "cell_type": "markdown",
      "metadata": {
        "id": "view-in-github",
        "colab_type": "text"
      },
      "source": [
        "<a href=\"https://colab.research.google.com/github/see-3pO/Learning_Tensorflow/blob/master/CNNs.ipynb\" target=\"_parent\"><img src=\"https://colab.research.google.com/assets/colab-badge.svg\" alt=\"Open In Colab\"/></a>"
      ]
    },
    {
      "cell_type": "code",
      "execution_count": 10,
      "metadata": {
        "id": "dwss7fhYatp3"
      },
      "outputs": [],
      "source": [
        "# import libraries and classes\n",
        "import tensorflow as tf\n",
        "from tensorflow import keras\n",
        "from keras.datasets import cifar10\n",
        "from keras.models import Sequential\n",
        "from keras.layers import Dense, Input, Flatten, Conv2D, MaxPooling2D, Dropout, BatchNormalization\n",
        "from keras.models import Model"
      ]
    },
    {
      "cell_type": "code",
      "source": [
        "# loading the data\n",
        "(X_train, y_train), (X_test, y_test) = cifar10.load_data()"
      ],
      "metadata": {
        "colab": {
          "base_uri": "https://localhost:8080/"
        },
        "id": "UeHmKBG_dWBF",
        "outputId": "dbf22c74-83c1-4259-d2af-13992ad4f253"
      },
      "execution_count": 2,
      "outputs": [
        {
          "output_type": "stream",
          "name": "stdout",
          "text": [
            "Downloading data from https://www.cs.toronto.edu/~kriz/cifar-10-python.tar.gz\n",
            "170498071/170498071 [==============================] - 3s 0us/step\n"
          ]
        }
      ]
    },
    {
      "cell_type": "code",
      "source": [
        "# preprocessing the data\n",
        "# converting to float32 for computational efficiency (compared to float64)\n",
        "# normalizing the data to value range [0, 1]\n",
        "X_train = X_train.astype('float32') / 255.0\n",
        "X_test = X_test.astype('float32') / 255.0"
      ],
      "metadata": {
        "id": "wtDxn0ZbdnEE"
      },
      "execution_count": 3,
      "outputs": []
    },
    {
      "cell_type": "code",
      "source": [
        "# building sequential model\n",
        "model = Sequential()\n",
        "model.add(Input(shape = (32, 32, 3)))\n",
        "model.add(Conv2D(32, (3, 3), padding = 'valid', activation='relu'))\n",
        "model.add(MaxPooling2D(pool_size=(2,2)))\n",
        "\n",
        "model.add(Conv2D(64, (3, 3), padding='valid', activation='relu'))\n",
        "model.add(MaxPooling2D(pool_size=(2, 2)))\n",
        "\n",
        "model.add(Conv2D(128, (3, 3), padding='valid', activation='relu'))\n",
        "model.add(MaxPooling2D(pool_size=(2, 2)))\n",
        "\n",
        "# print(model.summary())\n",
        "model.add(Flatten())\n",
        "model.add(Dense(128, activation='relu'))\n",
        "model.add(Dense(10))\n"
      ],
      "metadata": {
        "id": "ZeCN2S38e-0U"
      },
      "execution_count": 4,
      "outputs": []
    },
    {
      "cell_type": "code",
      "source": [
        "model.summary()"
      ],
      "metadata": {
        "colab": {
          "base_uri": "https://localhost:8080/"
        },
        "id": "2reb2LwKzMDv",
        "outputId": "7dcaa5d6-69a7-4af0-9857-8d33899c19e4"
      },
      "execution_count": 5,
      "outputs": [
        {
          "output_type": "stream",
          "name": "stdout",
          "text": [
            "Model: \"sequential\"\n",
            "_________________________________________________________________\n",
            " Layer (type)                Output Shape              Param #   \n",
            "=================================================================\n",
            " conv2d (Conv2D)             (None, 30, 30, 32)        896       \n",
            "                                                                 \n",
            " max_pooling2d (MaxPooling2  (None, 15, 15, 32)        0         \n",
            " D)                                                              \n",
            "                                                                 \n",
            " conv2d_1 (Conv2D)           (None, 13, 13, 64)        18496     \n",
            "                                                                 \n",
            " max_pooling2d_1 (MaxPoolin  (None, 6, 6, 64)          0         \n",
            " g2D)                                                            \n",
            "                                                                 \n",
            " conv2d_2 (Conv2D)           (None, 4, 4, 128)         73856     \n",
            "                                                                 \n",
            " max_pooling2d_2 (MaxPoolin  (None, 2, 2, 128)         0         \n",
            " g2D)                                                            \n",
            "                                                                 \n",
            " flatten (Flatten)           (None, 512)               0         \n",
            "                                                                 \n",
            " dense (Dense)               (None, 128)               65664     \n",
            "                                                                 \n",
            " dense_1 (Dense)             (None, 10)                1290      \n",
            "                                                                 \n",
            "=================================================================\n",
            "Total params: 160202 (625.79 KB)\n",
            "Trainable params: 160202 (625.79 KB)\n",
            "Non-trainable params: 0 (0.00 Byte)\n",
            "_________________________________________________________________\n"
          ]
        }
      ]
    },
    {
      "cell_type": "code",
      "source": [
        "# compiling the model\n",
        "model.compile(\n",
        "    loss = keras.losses.SparseCategoricalCrossentropy(from_logits=True),\n",
        "    optimizer = keras.optimizers.Adam(learning_rate=0.001),\n",
        "    metrics = ['accuracy'],\n",
        ")"
      ],
      "metadata": {
        "id": "PaT7iMVnzOun"
      },
      "execution_count": 6,
      "outputs": []
    },
    {
      "cell_type": "code",
      "source": [
        "# training the model\n",
        "model.fit(X_train, y_train, batch_size=64, epochs=10, verbose=2)"
      ],
      "metadata": {
        "colab": {
          "base_uri": "https://localhost:8080/"
        },
        "id": "HXcut0Oc0N7w",
        "outputId": "4fa36d2f-678e-425f-8638-c8e9b1148b4e"
      },
      "execution_count": 7,
      "outputs": [
        {
          "output_type": "stream",
          "name": "stdout",
          "text": [
            "Epoch 1/10\n",
            "782/782 - 59s - loss: 1.5354 - accuracy: 0.4422 - 59s/epoch - 76ms/step\n",
            "Epoch 2/10\n",
            "782/782 - 55s - loss: 1.1490 - accuracy: 0.5941 - 55s/epoch - 70ms/step\n",
            "Epoch 3/10\n",
            "782/782 - 54s - loss: 0.9796 - accuracy: 0.6570 - 54s/epoch - 69ms/step\n",
            "Epoch 4/10\n",
            "782/782 - 62s - loss: 0.8709 - accuracy: 0.6979 - 62s/epoch - 80ms/step\n",
            "Epoch 5/10\n",
            "782/782 - 62s - loss: 0.7932 - accuracy: 0.7234 - 62s/epoch - 79ms/step\n",
            "Epoch 6/10\n",
            "782/782 - 68s - loss: 0.7230 - accuracy: 0.7483 - 68s/epoch - 87ms/step\n",
            "Epoch 7/10\n",
            "782/782 - 61s - loss: 0.6559 - accuracy: 0.7703 - 61s/epoch - 77ms/step\n",
            "Epoch 8/10\n",
            "782/782 - 54s - loss: 0.6114 - accuracy: 0.7860 - 54s/epoch - 69ms/step\n",
            "Epoch 9/10\n",
            "782/782 - 61s - loss: 0.5599 - accuracy: 0.8032 - 61s/epoch - 78ms/step\n",
            "Epoch 10/10\n",
            "782/782 - 56s - loss: 0.5175 - accuracy: 0.8180 - 56s/epoch - 71ms/step\n"
          ]
        },
        {
          "output_type": "execute_result",
          "data": {
            "text/plain": [
              "<keras.src.callbacks.History at 0x7e3b7b1f1a20>"
            ]
          },
          "metadata": {},
          "execution_count": 7
        }
      ]
    },
    {
      "cell_type": "code",
      "source": [
        "#evaluate the model\n",
        "model.evaluate(X_test, y_test, batch_size=64, verbose=2)"
      ],
      "metadata": {
        "colab": {
          "base_uri": "https://localhost:8080/"
        },
        "id": "4k9iklWM0FrY",
        "outputId": "d85801f4-5da5-4827-974e-2267f64b31a3"
      },
      "execution_count": 8,
      "outputs": [
        {
          "output_type": "stream",
          "name": "stdout",
          "text": [
            "157/157 - 3s - loss: 0.8711 - accuracy: 0.7189 - 3s/epoch - 19ms/step\n"
          ]
        },
        {
          "output_type": "execute_result",
          "data": {
            "text/plain": [
              "[0.8710509538650513, 0.7189000248908997]"
            ]
          },
          "metadata": {},
          "execution_count": 8
        }
      ]
    },
    {
      "cell_type": "markdown",
      "source": [
        "### Building the CNN using the functional API\n"
      ],
      "metadata": {
        "id": "fNi2zyxCboEI"
      }
    },
    {
      "cell_type": "code",
      "source": [
        "# model function\n",
        "def the_model():\n",
        "  inputs = Input(shape=(32, 32, 3))\n",
        "  # Convolution layers\n",
        "  x = Conv2D(32, (3, 3), padding='valid')(inputs)\n",
        "  x = BatchNormalization()(x)\n",
        "  x = keras.activations.relu(x)\n",
        "  x = MaxPooling2D(pool_size=(2, 2))(x)\n",
        "  x = Conv2D(64, (5, 5))(x)\n",
        "  x = BatchNormalization()(x)\n",
        "  x = keras.activations.relu(x)\n",
        "  x = MaxPooling2D()(x)\n",
        "  x = Conv2D(128, (3, 3))(x)\n",
        "  x = BatchNormalization()(x)\n",
        "  x = MaxPooling2D()(x)\n",
        "\n",
        "  # Dense layer\n",
        "  x = Flatten()(x)\n",
        "  x = Dense(64, activation='relu')(x)\n",
        "  outputs = Dense(10)(x)\n",
        "\n",
        "  model = Model(inputs=inputs, outputs=outputs)\n",
        "\n",
        "  return model"
      ],
      "metadata": {
        "id": "DBduVbjNbeaA"
      },
      "execution_count": 13,
      "outputs": []
    },
    {
      "cell_type": "code",
      "source": [
        "# creating the model\n",
        "func_model = the_model()\n",
        "print(func_model.summary())"
      ],
      "metadata": {
        "colab": {
          "base_uri": "https://localhost:8080/"
        },
        "id": "WdJsnwG_nVdK",
        "outputId": "923c79aa-a32f-4b79-def3-a78b14fe3e8a"
      },
      "execution_count": 14,
      "outputs": [
        {
          "output_type": "stream",
          "name": "stdout",
          "text": [
            "Model: \"model\"\n",
            "_________________________________________________________________\n",
            " Layer (type)                Output Shape              Param #   \n",
            "=================================================================\n",
            " input_3 (InputLayer)        [(None, 32, 32, 3)]       0         \n",
            "                                                                 \n",
            " conv2d_6 (Conv2D)           (None, 30, 30, 32)        896       \n",
            "                                                                 \n",
            " batch_normalization_3 (Bat  (None, 30, 30, 32)        128       \n",
            " chNormalization)                                                \n",
            "                                                                 \n",
            " tf.nn.relu_2 (TFOpLambda)   (None, 30, 30, 32)        0         \n",
            "                                                                 \n",
            " max_pooling2d_5 (MaxPoolin  (None, 15, 15, 32)        0         \n",
            " g2D)                                                            \n",
            "                                                                 \n",
            " conv2d_7 (Conv2D)           (None, 11, 11, 64)        51264     \n",
            "                                                                 \n",
            " batch_normalization_4 (Bat  (None, 11, 11, 64)        256       \n",
            " chNormalization)                                                \n",
            "                                                                 \n",
            " tf.nn.relu_3 (TFOpLambda)   (None, 11, 11, 64)        0         \n",
            "                                                                 \n",
            " max_pooling2d_6 (MaxPoolin  (None, 5, 5, 64)          0         \n",
            " g2D)                                                            \n",
            "                                                                 \n",
            " conv2d_8 (Conv2D)           (None, 3, 3, 128)         73856     \n",
            "                                                                 \n",
            " batch_normalization_5 (Bat  (None, 3, 3, 128)         512       \n",
            " chNormalization)                                                \n",
            "                                                                 \n",
            " max_pooling2d_7 (MaxPoolin  (None, 1, 1, 128)         0         \n",
            " g2D)                                                            \n",
            "                                                                 \n",
            " flatten_1 (Flatten)         (None, 128)               0         \n",
            "                                                                 \n",
            " dense_2 (Dense)             (None, 64)                8256      \n",
            "                                                                 \n",
            " dense_3 (Dense)             (None, 10)                650       \n",
            "                                                                 \n",
            "=================================================================\n",
            "Total params: 135818 (530.54 KB)\n",
            "Trainable params: 135370 (528.79 KB)\n",
            "Non-trainable params: 448 (1.75 KB)\n",
            "_________________________________________________________________\n",
            "None\n"
          ]
        }
      ]
    },
    {
      "cell_type": "code",
      "source": [
        "# compiling the model\n",
        "func_model.compile(\n",
        "    loss = keras.losses.SparseCategoricalCrossentropy(from_logits=True),\n",
        "    optimizer = keras.optimizers.Adam(learning_rate=3e-4),\n",
        "    metrics = ['accuracy'],\n",
        ")"
      ],
      "metadata": {
        "id": "KgHmMWSknjod"
      },
      "execution_count": 16,
      "outputs": []
    },
    {
      "cell_type": "code",
      "source": [
        "# fitting the model\n",
        "func_model.fit(X_train, y_train, batch_size=64, epochs=5, verbose=2)"
      ],
      "metadata": {
        "colab": {
          "base_uri": "https://localhost:8080/"
        },
        "id": "LeoMy4Wktxr8",
        "outputId": "c3eb2ba7-cae3-4441-abc8-94cdbd7aae81"
      },
      "execution_count": 17,
      "outputs": [
        {
          "output_type": "stream",
          "name": "stdout",
          "text": [
            "Epoch 1/5\n",
            "782/782 - 92s - loss: 1.4495 - accuracy: 0.4841 - 92s/epoch - 118ms/step\n",
            "Epoch 2/5\n",
            "782/782 - 90s - loss: 1.1167 - accuracy: 0.6096 - 90s/epoch - 115ms/step\n",
            "Epoch 3/5\n",
            "782/782 - 89s - loss: 0.9767 - accuracy: 0.6600 - 89s/epoch - 113ms/step\n",
            "Epoch 4/5\n",
            "782/782 - 90s - loss: 0.8789 - accuracy: 0.6951 - 90s/epoch - 115ms/step\n",
            "Epoch 5/5\n",
            "782/782 - 90s - loss: 0.8031 - accuracy: 0.7218 - 90s/epoch - 115ms/step\n"
          ]
        },
        {
          "output_type": "execute_result",
          "data": {
            "text/plain": [
              "<keras.src.callbacks.History at 0x7e3b78d3ceb0>"
            ]
          },
          "metadata": {},
          "execution_count": 17
        }
      ]
    },
    {
      "cell_type": "code",
      "source": [
        "# evaluating the model\n",
        "func_model.evaluate(X_test, y_test, batch_size=64, verbose=2)"
      ],
      "metadata": {
        "colab": {
          "base_uri": "https://localhost:8080/"
        },
        "id": "4U-9sej7uCMb",
        "outputId": "74023618-1107-4afe-c60d-2cdcf2ac7d9f"
      },
      "execution_count": 18,
      "outputs": [
        {
          "output_type": "stream",
          "name": "stdout",
          "text": [
            "157/157 - 6s - loss: 1.1065 - accuracy: 0.6304 - 6s/epoch - 37ms/step\n"
          ]
        },
        {
          "output_type": "execute_result",
          "data": {
            "text/plain": [
              "[1.1064629554748535, 0.6304000020027161]"
            ]
          },
          "metadata": {},
          "execution_count": 18
        }
      ]
    }
  ]
}