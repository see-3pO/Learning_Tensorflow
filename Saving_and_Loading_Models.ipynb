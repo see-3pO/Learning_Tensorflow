{
  "nbformat": 4,
  "nbformat_minor": 0,
  "metadata": {
    "colab": {
      "provenance": [],
      "authorship_tag": "ABX9TyOoMkmjDg0rWPNXZjMWMGCQ",
      "include_colab_link": true
    },
    "kernelspec": {
      "name": "python3",
      "display_name": "Python 3"
    },
    "language_info": {
      "name": "python"
    }
  },
  "cells": [
    {
      "cell_type": "markdown",
      "metadata": {
        "id": "view-in-github",
        "colab_type": "text"
      },
      "source": [
        "<a href=\"https://colab.research.google.com/github/see-3pO/Learning_Tensorflow/blob/master/Saving_and_Loading_Models.ipynb\" target=\"_parent\"><img src=\"https://colab.research.google.com/assets/colab-badge.svg\" alt=\"Open In Colab\"/></a>"
      ]
    },
    {
      "cell_type": "markdown",
      "source": [
        "This notebook focuses on:\n",
        "* Methods of saving and loading model weights.\n",
        "* Saving and loading the model itself(Serializing a model)"
      ],
      "metadata": {
        "id": "jn6VpDxPUWDG"
      }
    },
    {
      "cell_type": "code",
      "source": [
        "# mounting the drive\n",
        "from google.colab import drive\n",
        "drive.mount('/content/drive')"
      ],
      "metadata": {
        "colab": {
          "base_uri": "https://localhost:8080/"
        },
        "id": "vP9eYJcOew6y",
        "outputId": "686e65e5-197f-4a06-dd64-bc388fa35474"
      },
      "execution_count": 11,
      "outputs": [
        {
          "output_type": "stream",
          "name": "stdout",
          "text": [
            "Mounted at /content/drive\n"
          ]
        }
      ]
    },
    {
      "cell_type": "code",
      "source": [
        "# path to save model weights in drive\n",
        "save_path = '/content/drive/MyDrive/Tensorflow_Tutorials (Aladdin Persson)/save_model/model_weights.ckpt'"
      ],
      "metadata": {
        "id": "rXKrNeWvhxxt"
      },
      "execution_count": 13,
      "outputs": []
    },
    {
      "cell_type": "code",
      "source": [
        " # basic imports\n",
        "import tensorflow as tf\n",
        "from tensorflow import keras\n",
        "from keras.datasets import mnist\n",
        "from keras import layers"
      ],
      "metadata": {
        "id": "2xC04qT5U5jk"
      },
      "execution_count": 1,
      "outputs": []
    },
    {
      "cell_type": "code",
      "source": [
        "# loading data and preprocessing it\n",
        "(X_train, y_train), (X_test, y_test) = mnist.load_data()\n",
        "X_train = X_train.reshape(-1, 28*28).astype('float32') / 255.0\n",
        "X_test = X_test.reshape(-1, 28*28).astype('float32') / 255.0"
      ],
      "metadata": {
        "colab": {
          "base_uri": "https://localhost:8080/"
        },
        "id": "Rj3_lxbIW929",
        "outputId": "905d48a8-86d9-41c3-ea40-e4e396e3944b"
      },
      "execution_count": 2,
      "outputs": [
        {
          "output_type": "stream",
          "name": "stdout",
          "text": [
            "Downloading data from https://storage.googleapis.com/tensorflow/tf-keras-datasets/mnist.npz\n",
            "11490434/11490434 [==============================] - 1s 0us/step\n"
          ]
        }
      ]
    },
    {
      "cell_type": "code",
      "source": [
        "# Sequential API model\n",
        "model1 = keras.Sequential(\n",
        "    [\n",
        "        layers.Dense(64, activation='relu'),\n",
        "        layers.Dense(10)\n",
        "    ]\n",
        ")"
      ],
      "metadata": {
        "id": "Z8CTHEylXfui"
      },
      "execution_count": 3,
      "outputs": []
    },
    {
      "cell_type": "code",
      "source": [
        "# Functional API model\n",
        "inputs = keras.Input(28*28)\n",
        "x = layers.Dense(64, activation='relu')(inputs)\n",
        "outputs = layers.Dense(10)(x)\n",
        "\n",
        "model2 = keras.Model(inputs=inputs, outputs=outputs)"
      ],
      "metadata": {
        "id": "Qb_CctSzX0_V"
      },
      "execution_count": 4,
      "outputs": []
    },
    {
      "cell_type": "code",
      "source": [
        "# class-based model\n",
        "class MyModel(keras.Model):\n",
        "  def __init__(self):\n",
        "    super(MyModel, self).__init__()\n",
        "    self.dense1 = layers.Dense(64, activation='relu')\n",
        "    self.dense2 = layers.Dense(10)\n",
        "\n",
        "  def call(self, input_tensor):\n",
        "    x = self.dense1(input_tensor)\n",
        "    return self.dense2(x)\n",
        "\n",
        "model3 = MyModel()"
      ],
      "metadata": {
        "id": "M-Gukyp4YVn_"
      },
      "execution_count": 5,
      "outputs": []
    },
    {
      "cell_type": "code",
      "source": [
        "model = model1"
      ],
      "metadata": {
        "id": "k-l3oSwEbDSQ"
      },
      "execution_count": 6,
      "outputs": []
    },
    {
      "cell_type": "code",
      "source": [
        "# load the saved weights\n",
        "model.load_weights(save_path)"
      ],
      "metadata": {
        "colab": {
          "base_uri": "https://localhost:8080/"
        },
        "id": "P_kbTdD8hc6_",
        "outputId": "7fd8a0fd-28a1-4227-e8ea-57cfbf8b42b6"
      },
      "execution_count": 14,
      "outputs": [
        {
          "output_type": "execute_result",
          "data": {
            "text/plain": [
              "<tensorflow.python.checkpoint.checkpoint.CheckpointLoadStatus at 0x7f8e3470c790>"
            ]
          },
          "metadata": {},
          "execution_count": 14
        }
      ]
    },
    {
      "cell_type": "code",
      "source": [
        "model.compile(\n",
        "    loss = keras.losses.SparseCategoricalCrossentropy(from_logits=True),\n",
        "    optimizer = keras.optimizers.Adam(),\n",
        "    metrics = ['accuracy'],\n",
        ")"
      ],
      "metadata": {
        "id": "3AGwY-UnbF9b"
      },
      "execution_count": 15,
      "outputs": []
    },
    {
      "cell_type": "code",
      "source": [
        "model.fit(X_train, y_train, batch_size=32, epochs=2, verbose=2)\n",
        "model.evaluate(X_test, y_test, batch_size=32, verbose=2)"
      ],
      "metadata": {
        "colab": {
          "base_uri": "https://localhost:8080/"
        },
        "id": "aEmpV8KrbcNb",
        "outputId": "3230a4a8-b7a1-4fce-d1f9-6329f40ba44a"
      },
      "execution_count": 16,
      "outputs": [
        {
          "output_type": "stream",
          "name": "stdout",
          "text": [
            "Epoch 1/2\n",
            "1875/1875 - 7s - loss: 0.1100 - accuracy: 0.9670 - 7s/epoch - 3ms/step\n",
            "Epoch 2/2\n",
            "1875/1875 - 3s - loss: 0.0847 - accuracy: 0.9741 - 3s/epoch - 2ms/step\n",
            "313/313 - 1s - loss: 0.1033 - accuracy: 0.9692 - 543ms/epoch - 2ms/step\n"
          ]
        },
        {
          "output_type": "execute_result",
          "data": {
            "text/plain": [
              "[0.1033092513680458, 0.9692000150680542]"
            ]
          },
          "metadata": {},
          "execution_count": 16
        }
      ]
    },
    {
      "cell_type": "code",
      "source": [
        "# saving weights\n",
        "model.save_weights(save_path)\n",
        "print(f\"Model weights saved to {save_path}\")"
      ],
      "metadata": {
        "colab": {
          "base_uri": "https://localhost:8080/"
        },
        "id": "tLGrsur6b1qh",
        "outputId": "c5a70859-90f9-4994-f6f9-9691bfad2a2c"
      },
      "execution_count": 12,
      "outputs": [
        {
          "output_type": "stream",
          "name": "stdout",
          "text": [
            "Model weights saved to /content/drive/MyDrive/Tensorflow_Tutorials (Aladdin Persson)/save_model/model_weights.ckpt\n"
          ]
        }
      ]
    },
    {
      "cell_type": "code",
      "source": [
        "# saving the entire model\n",
        "model_path = '/content/drive/MyDrive/Tensorflow_Tutorials (Aladdin Persson)/save_model/my_models'\n",
        "model.save(model_path)\n",
        "print(f\"Model saved to {model_path}\")"
      ],
      "metadata": {
        "colab": {
          "base_uri": "https://localhost:8080/"
        },
        "id": "lwfbjrdGd_CN",
        "outputId": "d12814b8-d214-4401-8889-7fe898118904"
      },
      "execution_count": 17,
      "outputs": [
        {
          "output_type": "stream",
          "name": "stdout",
          "text": [
            "Model saved to /content/drive/MyDrive/Tensorflow_Tutorials (Aladdin Persson)/save_model/my_models\n"
          ]
        }
      ]
    },
    {
      "cell_type": "code",
      "source": [
        "# load the model\n",
        "loaded_model = keras.models.load_model(model_path)\n",
        "print(f\"Model loaded from {model_path}\")"
      ],
      "metadata": {
        "colab": {
          "base_uri": "https://localhost:8080/"
        },
        "id": "oPgGJT00l0Io",
        "outputId": "4a0fbd13-296c-46c2-ef4a-d83c42cf877a"
      },
      "execution_count": 18,
      "outputs": [
        {
          "output_type": "stream",
          "name": "stdout",
          "text": [
            "Model loaded from /content/drive/MyDrive/Tensorflow_Tutorials (Aladdin Persson)/save_model/my_models\n"
          ]
        }
      ]
    },
    {
      "cell_type": "code",
      "source": [
        "loaded_model.summary()"
      ],
      "metadata": {
        "colab": {
          "base_uri": "https://localhost:8080/"
        },
        "id": "YfrlK2rFmdwI",
        "outputId": "ddbdbd9f-42e6-4714-a93b-157a804168d6"
      },
      "execution_count": 19,
      "outputs": [
        {
          "output_type": "stream",
          "name": "stdout",
          "text": [
            "Model: \"sequential\"\n",
            "_________________________________________________________________\n",
            " Layer (type)                Output Shape              Param #   \n",
            "=================================================================\n",
            " dense (Dense)               (None, 64)                50240     \n",
            "                                                                 \n",
            " dense_1 (Dense)             (None, 10)                650       \n",
            "                                                                 \n",
            "=================================================================\n",
            "Total params: 50890 (198.79 KB)\n",
            "Trainable params: 50890 (198.79 KB)\n",
            "Non-trainable params: 0 (0.00 Byte)\n",
            "_________________________________________________________________\n"
          ]
        }
      ]
    },
    {
      "cell_type": "markdown",
      "source": [
        "One can also save and load each model separately using the following syntax:\n",
        "```python\n",
        "# Step: Save the Models\n",
        "folder_path = '/content/drive/My Drive/saved_models/'\n",
        "sequential_model.save(f'{folder_path}sequential_model')\n",
        "functional_model.save(f'{folder_path}functional_model')\n",
        "subclassed_model.save(f'{folder_path}subclassed_model')\n",
        "\n",
        "# Step: Load the Models\n",
        "loaded_sequential_model = tf.keras.models.load_model(f'{folder_path}sequential_model')\n",
        "loaded_functional_model = tf.keras.models.load_model(f'{folder_path}functional_model')\n",
        "loaded_subclassed_model = tf.keras.models.load_model(f'{folder_path}subclassed_model')\n",
        "\n",
        "print(\"Models loaded successfully\")\n",
        "\n",
        "```"
      ],
      "metadata": {
        "id": "qkrwozEKnK8r"
      }
    }
  ]
}