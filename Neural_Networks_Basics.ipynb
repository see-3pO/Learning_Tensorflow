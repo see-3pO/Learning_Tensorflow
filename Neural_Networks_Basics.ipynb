{
  "nbformat": 4,
  "nbformat_minor": 0,
  "metadata": {
    "colab": {
      "provenance": [],
      "authorship_tag": "ABX9TyNAguZca7dRBAdyyTzj9Ixj",
      "include_colab_link": true
    },
    "kernelspec": {
      "name": "python3",
      "display_name": "Python 3"
    },
    "language_info": {
      "name": "python"
    }
  },
  "cells": [
    {
      "cell_type": "markdown",
      "metadata": {
        "id": "view-in-github",
        "colab_type": "text"
      },
      "source": [
        "<a href=\"https://colab.research.google.com/github/see-3pO/Learning_Tensorflow/blob/master/Neural_Networks_Basics.ipynb\" target=\"_parent\"><img src=\"https://colab.research.google.com/assets/colab-badge.svg\" alt=\"Open In Colab\"/></a>"
      ]
    },
    {
      "cell_type": "code",
      "execution_count": null,
      "metadata": {
        "id": "OyL2Hjh9DXNK"
      },
      "outputs": [],
      "source": [
        "# Importing necessary libraries and classes\n",
        "import tensorflow as tf\n",
        "\n",
        "from tensorflow import keras\n",
        "from keras import layers\n",
        "from keras.datasets import mnist\n"
      ]
    },
    {
      "cell_type": "code",
      "source": [
        "# Loading the dataset\n",
        "(X_train, y_train), (X_test, y_test) = mnist.load_data()"
      ],
      "metadata": {
        "id": "40Imh65Tcss9",
        "colab": {
          "base_uri": "https://localhost:8080/"
        },
        "outputId": "5a57a522-b1e1-47e7-d6ef-6f437e55420f"
      },
      "execution_count": null,
      "outputs": [
        {
          "output_type": "stream",
          "name": "stdout",
          "text": [
            "Downloading data from https://storage.googleapis.com/tensorflow/tf-keras-datasets/mnist.npz\n",
            "11490434/11490434 [==============================] - 0s 0us/step\n"
          ]
        }
      ]
    },
    {
      "cell_type": "code",
      "source": [
        "X_train.shape, y_train.shape, X_test.shape, y_test.shape"
      ],
      "metadata": {
        "id": "1qVadm3WcsdX",
        "colab": {
          "base_uri": "https://localhost:8080/"
        },
        "outputId": "f4565f60-f950-4e26-92d2-69c38c2c226b"
      },
      "execution_count": null,
      "outputs": [
        {
          "output_type": "execute_result",
          "data": {
            "text/plain": [
              "((60000, 28, 28), (60000,), (10000, 28, 28), (10000,))"
            ]
          },
          "metadata": {},
          "execution_count": 6
        }
      ]
    },
    {
      "cell_type": "code",
      "source": [
        "# Flatten the images\n",
        "X_train = X_train.reshape(-1, 28*28).astype(\"float32\") / 255.0\n",
        "X_test = X_test.reshape(-1, 28*28).astype(\"float32\") / 255.0"
      ],
      "metadata": {
        "id": "bwmhcz9aiHic"
      },
      "execution_count": null,
      "outputs": []
    },
    {
      "cell_type": "markdown",
      "source": [
        "The Sequential API is convenient but not flexible when compared to the Functional API."
      ],
      "metadata": {
        "id": "_ZWEwxUZqud4"
      }
    },
    {
      "cell_type": "code",
      "source": [
        "# Creating a basic NN using Sequential API\n",
        "model = keras.Sequential(\n",
        "    [\n",
        "        keras.Input(shape=(28*28)),\n",
        "        layers.Dense(512, activation = 'relu'),\n",
        "        layers.Dense(256, activation = 'relu'),\n",
        "        layers.Dense(10),\n",
        "    ]\n",
        ")\n"
      ],
      "metadata": {
        "id": "qMiUJHRZisGn"
      },
      "execution_count": null,
      "outputs": []
    },
    {
      "cell_type": "code",
      "source": [
        "# Alternative method of creating the model\n",
        "model = keras.Sequential()\n",
        "model.add(keras.Input(shape=(28*28)))\n",
        "model.add(layers.Dense(512, activation='relu'))\n",
        "print(model.summary())\n",
        "model.add(layers.Dense(256, activation='relu'))\n",
        "model.add(layers.Dense(10))"
      ],
      "metadata": {
        "id": "xBMjfoMWaqIG"
      },
      "execution_count": null,
      "outputs": []
    },
    {
      "cell_type": "code",
      "source": [
        "# get summary of network\n",
        "model.summary()"
      ],
      "metadata": {
        "id": "NIUUdhKSakiZ"
      },
      "execution_count": null,
      "outputs": []
    },
    {
      "cell_type": "code",
      "source": [
        "# compile\n",
        "model.compile(\n",
        "    loss = keras.losses.SparseCategoricalCrossentropy(from_logits=True),\n",
        "    optimizer = keras.optimizers.Adam(learning_rate=0.001),\n",
        "    metrics = ['accuracy'],\n",
        "\n",
        ")\n",
        "\n",
        "# fit the model\n",
        "model.fit(X_train, y_train, batch_size=32, epochs=5, verbose=2)\n",
        "\n",
        "# evaluate the model\n",
        "model.evaluate(X_test, y_test, batch_size=32, verbose=2)"
      ],
      "metadata": {
        "id": "2Xj3R83cSKP6"
      },
      "execution_count": null,
      "outputs": []
    },
    {
      "cell_type": "code",
      "source": [
        "# functional API model\n",
        "from keras.models import Model\n",
        "\n",
        "inputs = keras.Input(shape=(28*28))\n",
        "x =  layers.Dense(512, activation='relu', name='first_layer')(inputs)\n",
        "x = layers.Dense(265, activation='relu', name='second_layer')(x)\n",
        "outputs = layers.Dense(10, activation='softmax')(x)\n",
        "\n",
        "model = Model(inputs=inputs, outputs=outputs)\n",
        "model.summary()\n"
      ],
      "metadata": {
        "colab": {
          "base_uri": "https://localhost:8080/"
        },
        "id": "LwEop1phq8od",
        "outputId": "d4e62ecd-a7a1-469c-f95c-bfb947da01d4"
      },
      "execution_count": null,
      "outputs": [
        {
          "output_type": "stream",
          "name": "stdout",
          "text": [
            "Model: \"model\"\n",
            "_________________________________________________________________\n",
            " Layer (type)                Output Shape              Param #   \n",
            "=================================================================\n",
            " input_3 (InputLayer)        [(None, 784)]             0         \n",
            "                                                                 \n",
            " dense_8 (Dense)             (None, 512)               401920    \n",
            "                                                                 \n",
            " dense_9 (Dense)             (None, 265)               135945    \n",
            "                                                                 \n",
            " dense_10 (Dense)            (None, 10)                2660      \n",
            "                                                                 \n",
            "=================================================================\n",
            "Total params: 540525 (2.06 MB)\n",
            "Trainable params: 540525 (2.06 MB)\n",
            "Non-trainable params: 0 (0.00 Byte)\n",
            "_________________________________________________________________\n"
          ]
        }
      ]
    },
    {
      "cell_type": "code",
      "source": [
        "# compile\n",
        "# from logits= False since activation has been specified to softmax\n",
        "model.compile(\n",
        "    loss = keras.losses.SparseCategoricalCrossentropy(from_logits=False),\n",
        "    optimizer = keras.optimizers.Adam(learning_rate=0.001),\n",
        "    metrics = ['accuracy'],\n",
        ")"
      ],
      "metadata": {
        "id": "vBWWs7ikr93k"
      },
      "execution_count": null,
      "outputs": []
    },
    {
      "cell_type": "code",
      "source": [
        "# fit the model\n",
        "model.fit(X_train, y_train, batch_size=32, epochs=5, verbose=2)\n",
        "\n",
        "# evaluate the model\n",
        "model.evaluate(X_test, y_test, batch_size=32, verbose=2)"
      ],
      "metadata": {
        "colab": {
          "base_uri": "https://localhost:8080/"
        },
        "id": "jv73wrl2tiVi",
        "outputId": "f4accfa0-7a17-4f8f-a665-8aab779479d9"
      },
      "execution_count": null,
      "outputs": [
        {
          "output_type": "stream",
          "name": "stdout",
          "text": [
            "Epoch 1/5\n",
            "1875/1875 - 16s - loss: 0.1872 - accuracy: 0.9429 - 16s/epoch - 9ms/step\n",
            "Epoch 2/5\n",
            "1875/1875 - 14s - loss: 0.0799 - accuracy: 0.9754 - 14s/epoch - 8ms/step\n",
            "Epoch 3/5\n",
            "1875/1875 - 15s - loss: 0.0552 - accuracy: 0.9822 - 15s/epoch - 8ms/step\n",
            "Epoch 4/5\n",
            "1875/1875 - 15s - loss: 0.0398 - accuracy: 0.9874 - 15s/epoch - 8ms/step\n",
            "Epoch 5/5\n",
            "1875/1875 - 17s - loss: 0.0330 - accuracy: 0.9897 - 17s/epoch - 9ms/step\n",
            "313/313 - 1s - loss: 0.0820 - accuracy: 0.9780 - 1s/epoch - 3ms/step\n"
          ]
        },
        {
          "output_type": "execute_result",
          "data": {
            "text/plain": [
              "[0.08195251226425171, 0.9779999852180481]"
            ]
          },
          "metadata": {},
          "execution_count": 13
        }
      ]
    },
    {
      "cell_type": "markdown",
      "source": [
        "#### Extracting specific layer features\n"
      ],
      "metadata": {
        "id": "axX3RQWIuxaD"
      }
    },
    {
      "cell_type": "code",
      "source": [
        "# Say you have this neural network model\n",
        "model = keras.Sequential()\n",
        "model.add(keras.Input(shape=(28*28)))\n",
        "model.add(layers.Dense(512, activation='relu'))\n",
        "model.add(layers.Dense(256, activation='relu', name='feature_layer'))\n",
        "model.add(layers.Dense(10))\n",
        "\n",
        "# -2 gives us the second last layer of model\n",
        "nn_model = Model(inputs=model.inputs,\n",
        "                 outputs=[model.layers[-2].output])\n",
        "\n",
        "# using the name to specify output\n",
        "nn_model_two = Model(inputs= model.inputs,\n",
        "                     outputs=model.get_layer('feature_layer').output)\n",
        "\n",
        "feature = nn_model.predict(X_train)\n",
        "print(feature.shape)"
      ],
      "metadata": {
        "colab": {
          "base_uri": "https://localhost:8080/"
        },
        "id": "nkOYQi3Bu4iu",
        "outputId": "6fe59fb0-4786-46a0-a9a3-bdaa4436b0bd"
      },
      "execution_count": null,
      "outputs": [
        {
          "output_type": "stream",
          "name": "stdout",
          "text": [
            "1875/1875 [==============================] - 6s 3ms/step\n",
            "(60000, 256)\n"
          ]
        }
      ]
    },
    {
      "cell_type": "code",
      "source": [
        "feature = nn_model_two.predict(X_train)\n",
        "print(feature.shape)"
      ],
      "metadata": {
        "colab": {
          "base_uri": "https://localhost:8080/"
        },
        "id": "Z1C1V760w7Oh",
        "outputId": "ea8bce0c-b3c7-4713-e71c-dfd5c7b32cc3"
      },
      "execution_count": null,
      "outputs": [
        {
          "output_type": "stream",
          "name": "stdout",
          "text": [
            "1875/1875 [==============================] - 5s 3ms/step\n",
            "(60000, 256)\n"
          ]
        }
      ]
    },
    {
      "cell_type": "code",
      "source": [
        "# obtaining output for all the layers\n",
        "nn_model_three = Model(inputs=model.inputs,\n",
        "                       outputs=[layer.output for layer in model.layers])\n"
      ],
      "metadata": {
        "id": "VIThjvuT1GI4"
      },
      "execution_count": null,
      "outputs": []
    },
    {
      "cell_type": "code",
      "source": [
        "features = nn_model_three.predict(X_train)\n",
        "for feature in features:\n",
        "    print(feature.shape)"
      ],
      "metadata": {
        "colab": {
          "base_uri": "https://localhost:8080/"
        },
        "id": "3qcFfgzv1pPJ",
        "outputId": "9486b190-1b73-4a46-cf3d-c8eaca55deee"
      },
      "execution_count": null,
      "outputs": [
        {
          "output_type": "stream",
          "name": "stdout",
          "text": [
            "1875/1875 [==============================] - 7s 4ms/step\n",
            "(60000, 512)\n",
            "(60000, 256)\n",
            "(60000, 10)\n"
          ]
        }
      ]
    }
  ]
}