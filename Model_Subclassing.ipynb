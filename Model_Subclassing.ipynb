{
  "cells": [
    {
      "cell_type": "markdown",
      "metadata": {
        "id": "view-in-github",
        "colab_type": "text"
      },
      "source": [
        "<a href=\"https://colab.research.google.com/github/see-3pO/Learning_Tensorflow/blob/master/Model_Subclassing.ipynb\" target=\"_parent\"><img src=\"https://colab.research.google.com/assets/colab-badge.svg\" alt=\"Open In Colab\"/></a>"
      ]
    },
    {
      "cell_type": "code",
      "execution_count": null,
      "metadata": {
        "id": "7BhWoGc41IIk"
      },
      "outputs": [],
      "source": [
        " # importing libraries\n",
        "import tensorflow as tf\n",
        "from tensorflow import keras\n",
        "from keras import layers\n",
        "from keras.datasets import mnist"
      ]
    },
    {
      "cell_type": "code",
      "execution_count": null,
      "metadata": {
        "colab": {
          "base_uri": "https://localhost:8080/"
        },
        "id": "IlrZGSUw5Zsi",
        "outputId": "8942120b-c789-44b6-9604-c241257bb4bd"
      },
      "outputs": [
        {
          "name": "stdout",
          "output_type": "stream",
          "text": [
            "Downloading data from https://storage.googleapis.com/tensorflow/tf-keras-datasets/mnist.npz\n",
            "11490434/11490434 [==============================] - 0s 0us/step\n"
          ]
        }
      ],
      "source": [
        "# loading the data\n",
        "(X_train, y_train), (X_test, y_test) = mnist.load_data()"
      ]
    },
    {
      "cell_type": "code",
      "execution_count": null,
      "metadata": {
        "id": "AAeEA8i85nIS"
      },
      "outputs": [],
      "source": [
        "# preprocessing the data by flattening and normalization\n",
        "X_train = X_train.reshape(-1, 28, 28, 1).astype('float32') / 255.0\n",
        "X_test = X_test.reshape(-1, 28, 28, 1).astype('float32') / 255.0"
      ]
    },
    {
      "cell_type": "code",
      "execution_count": null,
      "metadata": {
        "id": "x1O78YUw8vUK"
      },
      "outputs": [],
      "source": [
        "# creating a CNN class\n",
        "class CNNBlock(layers.Layer):\n",
        "  def __init__(self, out_channels, kernel_size=3):\n",
        "    super(CNNBlock, self).__init__()\n",
        "    self.conv = layers.Conv2D(out_channels, kernel_size, padding='same')\n",
        "    self.bn = layers.BatchNormalization()\n",
        "\n",
        "  def call(self, input_tensor, training=False):\n",
        "    x = self.conv(input_tensor)\n",
        "    x = self.bn(x, training=training)\n",
        "    x = tf.nn.relu(x)\n",
        "    return x\n"
      ]
    },
    {
      "cell_type": "code",
      "execution_count": null,
      "metadata": {
        "id": "50U_p2WV2YyN"
      },
      "outputs": [],
      "source": [
        "model = keras.Sequential(\n",
        "    [\n",
        "        CNNBlock(32),\n",
        "        CNNBlock(64),\n",
        "        CNNBlock(128),\n",
        "        layers.Flatten(),\n",
        "        layers.Dense(10),\n",
        "    ]\n",
        ")\n"
      ]
    },
    {
      "cell_type": "code",
      "execution_count": null,
      "metadata": {
        "id": "-dUcMD535DO6"
      },
      "outputs": [],
      "source": [
        "model.compile(\n",
        "    optimizer = keras.optimizers.Adam(),\n",
        "    loss = keras.losses.SparseCategoricalCrossentropy(from_logits=True),\n",
        "    metrics = ['accuracy'],\n",
        ")"
      ]
    },
    {
      "cell_type": "code",
      "execution_count": null,
      "metadata": {
        "colab": {
          "base_uri": "https://localhost:8080/"
        },
        "id": "hS4vY9vn5ZsA",
        "outputId": "88f36534-5319-43f8-b971-0efdaa41ffe8"
      },
      "outputs": [
        {
          "name": "stdout",
          "output_type": "stream",
          "text": [
            "Epoch 1/3\n",
            "938/938 - 703s - loss: 2.0906 - accuracy: 0.9366 - 703s/epoch - 749ms/step\n",
            "Epoch 2/3\n",
            "938/938 - 686s - loss: 0.2658 - accuracy: 0.9750 - 686s/epoch - 731ms/step\n",
            "Epoch 3/3\n",
            "938/938 - 688s - loss: 0.1329 - accuracy: 0.9816 - 688s/epoch - 733ms/step\n"
          ]
        },
        {
          "data": {
            "text/plain": [
              "<keras.src.callbacks.History at 0x7c725d0658a0>"
            ]
          },
          "execution_count": 15,
          "metadata": {},
          "output_type": "execute_result"
        }
      ],
      "source": [
        "model.fit(X_train, y_train, epochs=3, batch_size=64, verbose=2)"
      ]
    },
    {
      "cell_type": "code",
      "execution_count": null,
      "metadata": {
        "colab": {
          "base_uri": "https://localhost:8080/"
        },
        "id": "KV0r_osF5kQB",
        "outputId": "aac69638-faca-445c-da12-cb6a7e96d3bc"
      },
      "outputs": [
        {
          "name": "stdout",
          "output_type": "stream",
          "text": [
            "157/157 - 29s - loss: 0.1705 - accuracy: 0.9760 - 29s/epoch - 187ms/step\n"
          ]
        },
        {
          "data": {
            "text/plain": [
              "[0.17046435177326202, 0.9760000109672546]"
            ]
          },
          "execution_count": 16,
          "metadata": {},
          "output_type": "execute_result"
        }
      ],
      "source": [
        "model.evaluate(X_test, y_test, batch_size=64, verbose=2)"
      ]
    },
    {
      "cell_type": "code",
      "execution_count": null,
      "metadata": {
        "id": "eQBTU8bFF7Tn"
      },
      "outputs": [],
      "source": [
        "# creating a ResNet Block class with 4 layers\n",
        "class ResBlock(layers.Layer):\n",
        "  def __init__(self, channels):\n",
        "    super(ResBlock, self).__init__()\n",
        "    self.cnn1 = CNNBlock(channels[0])\n",
        "    self.cnn2 = CNNBlock(channels[1])\n",
        "    self.cnn3 = CNNBlock(channels[2])\n",
        "    self.pooling = layers.MaxPooling2D()\n",
        "    self.identity_mapping = layers.Conv2D(channels[1], 1, padding='same')\n",
        "\n",
        "  # foward pass\n",
        "  def call(self, input_tensor, training=False):\n",
        "    x = self.cnn1(input_tensor, training=training)\n",
        "    x = self.cnn2(x, training=training)\n",
        "    x = self.cnn3(\n",
        "        x + self.identity_mapping(input_tensor), training=training,\n",
        "    )\n",
        "    return self.pooling(x)\n"
      ]
    },
    {
      "cell_type": "code",
      "execution_count": null,
      "metadata": {
        "id": "GX2p59XNGyPV"
      },
      "outputs": [],
      "source": [
        "# building the final model\n",
        "class ResNet_Like(keras.Model):\n",
        "  def __init__(self, num_classes=10):\n",
        "    super(ResNet_Like, self).__init__()\n",
        "    self.block1 = ResBlock([32, 32, 64])\n",
        "    self.block2 = ResBlock([128, 128, 256])\n",
        "    self.block3 = ResBlock([128, 256, 512])\n",
        "    self.pool = layers.GlobalAveragePooling2D()\n",
        "    self.classifier = layers.Dense(num_classes)\n",
        "\n",
        "  def call(self, input_tensor, training=False):\n",
        "    x = self.block1(input_tensor, training=training)\n",
        "    x = self.block2(x, training=training)\n",
        "    x = self.block3(x, training=training)\n",
        "    x = self.pool(x)\n",
        "    return self.classifier(x)\n"
      ]
    },
    {
      "cell_type": "code",
      "execution_count": null,
      "metadata": {
        "id": "-A0TegIfJHfk"
      },
      "outputs": [],
      "source": [
        "# instance of model\n",
        "model1 = ResNet_Like(num_classes=10)"
      ]
    },
    {
      "cell_type": "code",
      "execution_count": null,
      "metadata": {
        "id": "8aSsXPV5JOwl"
      },
      "outputs": [],
      "source": [
        "model1.compile(\n",
        "    optimizer = keras.optimizers.Adam(),\n",
        "    loss = keras.losses.SparseCategoricalCrossentropy(from_logits=True),\n",
        "    metrics = ['accuracy'],\n",
        ")"
      ]
    },
    {
      "cell_type": "code",
      "execution_count": null,
      "metadata": {
        "colab": {
          "background_save": true
        },
        "id": "-PoEiMkCJfAf",
        "outputId": "16c78558-fb2b-4801-833c-3f1c21912e76"
      },
      "outputs": [
        {
          "name": "stdout",
          "output_type": "stream",
          "text": [
            "938/938 - 1927s - loss: 0.0832 - accuracy: 0.9746 - 1927s/epoch - 2s/step\n"
          ]
        },
        {
          "data": {
            "text/plain": [
              "<keras.src.callbacks.History at 0x7914511b6260>"
            ]
          },
          "execution_count": 9,
          "metadata": {},
          "output_type": "execute_result"
        }
      ],
      "source": [
        "model1.fit(X_train, y_train, epochs=1, batch_size=64, verbose=2)"
      ]
    },
    {
      "cell_type": "code",
      "execution_count": null,
      "metadata": {
        "id": "aBiSutZEJXJS"
      },
      "outputs": [],
      "source": [
        "print(model1.summary())"
      ]
    }
  ],
  "metadata": {
    "colab": {
      "provenance": [],
      "authorship_tag": "ABX9TyPkEgwTk/oS6ZCXCRyzZDV9",
      "include_colab_link": true
    },
    "kernelspec": {
      "display_name": "Python 3",
      "name": "python3"
    },
    "language_info": {
      "name": "python"
    }
  },
  "nbformat": 4,
  "nbformat_minor": 0
}